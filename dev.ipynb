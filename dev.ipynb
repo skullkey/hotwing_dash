{
 "cells": [
  {
   "cell_type": "code",
   "execution_count": 47,
   "metadata": {},
   "outputs": [
    {
     "ename": "ModuleNotFoundError",
     "evalue": "No module named 'matplotlib'",
     "output_type": "error",
     "traceback": [
      "\u001b[0;31m---------------------------------------------------------------------------\u001b[0m",
      "\u001b[0;31mModuleNotFoundError\u001b[0m                       Traceback (most recent call last)",
      "\u001b[0;32m<ipython-input-47-b56cb10bce1f>\u001b[0m in \u001b[0;36m<module>\u001b[0;34m\u001b[0m\n\u001b[1;32m      3\u001b[0m \u001b[0mreload\u001b[0m\u001b[0;34m(\u001b[0m\u001b[0mdxf_parser\u001b[0m\u001b[0;34m)\u001b[0m\u001b[0;34m\u001b[0m\u001b[0;34m\u001b[0m\u001b[0m\n\u001b[1;32m      4\u001b[0m \u001b[0;32mimport\u001b[0m \u001b[0mnumpy\u001b[0m \u001b[0;32mas\u001b[0m \u001b[0mnp\u001b[0m\u001b[0;34m\u001b[0m\u001b[0;34m\u001b[0m\u001b[0m\n\u001b[0;32m----> 5\u001b[0;31m \u001b[0;32mimport\u001b[0m \u001b[0mmatplotlib\u001b[0m\u001b[0;34m\u001b[0m\u001b[0;34m\u001b[0m\u001b[0m\n\u001b[0m",
      "\u001b[0;31mModuleNotFoundError\u001b[0m: No module named 'matplotlib'"
     ]
    }
   ],
   "source": [
    "import dxf_parser\n",
    "from importlib import reload\n",
    "reload(dxf_parser)\n",
    "import numpy as np\n",
    "import matplotlib"
   ]
  },
  {
   "cell_type": "code",
   "execution_count": 4,
   "metadata": {},
   "outputs": [
    {
     "ename": "Exception",
     "evalue": "('Unsupported DXF Type:', 'SPLINE')",
     "output_type": "error",
     "traceback": [
      "\u001b[0;31m---------------------------------------------------------------------------\u001b[0m",
      "\u001b[0;31mException\u001b[0m                                 Traceback (most recent call last)",
      "\u001b[0;32m<ipython-input-4-48c8bfc65d72>\u001b[0m in \u001b[0;36m<module>\u001b[0;34m\u001b[0m\n\u001b[1;32m      1\u001b[0m \u001b[0mfilename\u001b[0m \u001b[0;34m=\u001b[0m \u001b[0;34m\"/home/schalk/Downloads/f.dxf\"\u001b[0m\u001b[0;34m\u001b[0m\u001b[0;34m\u001b[0m\u001b[0m\n\u001b[0;32m----> 2\u001b[0;31m \u001b[0mdxfp\u001b[0m \u001b[0;34m=\u001b[0m \u001b[0mdxf_parser\u001b[0m\u001b[0;34m.\u001b[0m\u001b[0mcreate_parser\u001b[0m\u001b[0;34m(\u001b[0m\u001b[0mfilename\u001b[0m\u001b[0;34m)\u001b[0m\u001b[0;34m\u001b[0m\u001b[0;34m\u001b[0m\u001b[0m\n\u001b[0m",
      "\u001b[0;32m~/src/hotwing_dash/dxf_parser.py\u001b[0m in \u001b[0;36mcreate_parser\u001b[0;34m(stored_filename)\u001b[0m\n\u001b[1;32m    249\u001b[0m         \u001b[0;32mif\u001b[0m \u001b[0mextension\u001b[0m \u001b[0;34m==\u001b[0m \u001b[0;34m'.dxf'\u001b[0m\u001b[0;34m:\u001b[0m\u001b[0;34m\u001b[0m\u001b[0;34m\u001b[0m\u001b[0m\n\u001b[1;32m    250\u001b[0m             \u001b[0mdoc\u001b[0m \u001b[0;34m=\u001b[0m \u001b[0mezdxf\u001b[0m\u001b[0;34m.\u001b[0m\u001b[0mreadfile\u001b[0m\u001b[0;34m(\u001b[0m\u001b[0mstored_filename\u001b[0m\u001b[0;34m)\u001b[0m\u001b[0;34m\u001b[0m\u001b[0;34m\u001b[0m\u001b[0m\n\u001b[0;32m--> 251\u001b[0;31m             \u001b[0mdxfp\u001b[0m \u001b[0;34m=\u001b[0m \u001b[0mDxfToGCode\u001b[0m\u001b[0;34m(\u001b[0m\u001b[0mdoc\u001b[0m\u001b[0;34m)\u001b[0m\u001b[0;34m\u001b[0m\u001b[0;34m\u001b[0m\u001b[0m\n\u001b[0m\u001b[1;32m    252\u001b[0m         \u001b[0;32melif\u001b[0m \u001b[0mextension\u001b[0m \u001b[0;34m==\u001b[0m \u001b[0;34m'.gcode'\u001b[0m\u001b[0;34m:\u001b[0m\u001b[0;34m\u001b[0m\u001b[0;34m\u001b[0m\u001b[0m\n\u001b[1;32m    253\u001b[0m             \u001b[0;32mwith\u001b[0m \u001b[0mopen\u001b[0m\u001b[0;34m(\u001b[0m\u001b[0mstored_filename\u001b[0m\u001b[0;34m)\u001b[0m \u001b[0;32mas\u001b[0m \u001b[0mf\u001b[0m\u001b[0;34m:\u001b[0m\u001b[0;34m\u001b[0m\u001b[0;34m\u001b[0m\u001b[0m\n",
      "\u001b[0;32m~/src/hotwing_dash/dxf_parser.py\u001b[0m in \u001b[0;36m__init__\u001b[0;34m(self, doc)\u001b[0m\n\u001b[1;32m     64\u001b[0m         \u001b[0mself\u001b[0m\u001b[0;34m.\u001b[0m\u001b[0mgco_list\u001b[0m \u001b[0;34m=\u001b[0m \u001b[0;34m[\u001b[0m\u001b[0;34m]\u001b[0m\u001b[0;34m\u001b[0m\u001b[0;34m\u001b[0m\u001b[0m\n\u001b[1;32m     65\u001b[0m         \u001b[0mself\u001b[0m\u001b[0;34m.\u001b[0m\u001b[0mgco_parsed_list\u001b[0m \u001b[0;34m=\u001b[0m \u001b[0;34m[\u001b[0m\u001b[0;34m]\u001b[0m\u001b[0;34m\u001b[0m\u001b[0;34m\u001b[0m\u001b[0m\n\u001b[0;32m---> 66\u001b[0;31m         \u001b[0mself\u001b[0m\u001b[0;34m.\u001b[0m\u001b[0m_parse\u001b[0m\u001b[0;34m(\u001b[0m\u001b[0;34m)\u001b[0m\u001b[0;34m\u001b[0m\u001b[0;34m\u001b[0m\u001b[0m\n\u001b[0m\u001b[1;32m     67\u001b[0m \u001b[0;34m\u001b[0m\u001b[0m\n\u001b[1;32m     68\u001b[0m \u001b[0;34m\u001b[0m\u001b[0m\n",
      "\u001b[0;32m~/src/hotwing_dash/dxf_parser.py\u001b[0m in \u001b[0;36m_parse\u001b[0;34m(self)\u001b[0m\n\u001b[1;32m     83\u001b[0m                 \u001b[0mself\u001b[0m\u001b[0;34m.\u001b[0m\u001b[0mgco_list\u001b[0m\u001b[0;34m.\u001b[0m\u001b[0mappend\u001b[0m\u001b[0;34m(\u001b[0m\u001b[0mLWPolyLine\u001b[0m\u001b[0;34m(\u001b[0m\u001b[0mnewpoints\u001b[0m\u001b[0;34m)\u001b[0m\u001b[0;34m)\u001b[0m\u001b[0;34m\u001b[0m\u001b[0;34m\u001b[0m\u001b[0m\n\u001b[1;32m     84\u001b[0m             \u001b[0;32melse\u001b[0m\u001b[0;34m:\u001b[0m\u001b[0;34m\u001b[0m\u001b[0;34m\u001b[0m\u001b[0m\n\u001b[0;32m---> 85\u001b[0;31m                 \u001b[0;32mraise\u001b[0m \u001b[0mException\u001b[0m\u001b[0;34m(\u001b[0m\u001b[0;34m\"Unsupported DXF Type:\"\u001b[0m\u001b[0;34m,\u001b[0m\u001b[0me\u001b[0m\u001b[0;34m.\u001b[0m\u001b[0mdxftype\u001b[0m\u001b[0;34m(\u001b[0m\u001b[0;34m)\u001b[0m\u001b[0;34m)\u001b[0m\u001b[0;34m\u001b[0m\u001b[0;34m\u001b[0m\u001b[0m\n\u001b[0m\u001b[1;32m     86\u001b[0m \u001b[0;34m\u001b[0m\u001b[0m\n\u001b[1;32m     87\u001b[0m         \u001b[0mself\u001b[0m\u001b[0;34m.\u001b[0m\u001b[0mgco_parsed_list\u001b[0m \u001b[0;34m=\u001b[0m \u001b[0mself\u001b[0m\u001b[0;34m.\u001b[0m\u001b[0mgco_list\u001b[0m\u001b[0;34m.\u001b[0m\u001b[0mcopy\u001b[0m\u001b[0;34m(\u001b[0m\u001b[0;34m)\u001b[0m\u001b[0;34m\u001b[0m\u001b[0;34m\u001b[0m\u001b[0m\n",
      "\u001b[0;31mException\u001b[0m: ('Unsupported DXF Type:', 'SPLINE')"
     ]
    }
   ],
   "source": [
    "filename = \"/home/schalk/Downloads/f.dxf\"\n",
    "dxfp = dxf_parser.create_parser(filename)"
   ]
  },
  {
   "cell_type": "code",
   "execution_count": 3,
   "metadata": {},
   "outputs": [],
   "source": [
    "x_series, y_series, _,_ = dxfp.to_xy_array(0,0,True)"
   ]
  },
  {
   "cell_type": "code",
   "execution_count": 4,
   "metadata": {},
   "outputs": [],
   "source": [
    "max_index = np.argmax(x_series)\n",
    "max_x = np.max(x_series)\n",
    "\n",
    "first, second = np.mean(y_series[:max_index]), np.mean(y_series[max_index:])\n",
    "\n",
    "if first < second:\n",
    "    x_series.reverse()\n",
    "    y_series.reverse()"
   ]
  },
  {
   "cell_type": "code",
   "execution_count": 5,
   "metadata": {},
   "outputs": [],
   "source": [
    "profile = [((max_x - x)/max_x,y/max_x) for x,y in zip(x_series,y_series)]"
   ]
  },
  {
   "cell_type": "code",
   "execution_count": 6,
   "metadata": {},
   "outputs": [],
   "source": [
    "from collections import OrderedDict\n",
    "profile = list(OrderedDict((round(x,3), (x,y)) for x,y in profile).values())\n",
    "profile.append(profile[0])\n",
    "with open(\"/home/schalk/src/hotwing_dash/profiles/wisel_sh.dat\",\"w\") as f:\n",
    "    f.write(\"wisel\\n\")\n",
    "    for x,y in profile:\n",
    "        f.write(\"    %.3f     %.3f\\n\" % (x,y))"
   ]
  },
  {
   "cell_type": "code",
   "execution_count": 7,
   "metadata": {},
   "outputs": [
    {
     "data": {
      "text/plain": [
       "[0,\n",
       " 166.54469364176433,\n",
       " 166.52387587293336,\n",
       " 166.52387587293336,\n",
       " 166.59314154982602,\n",
       " 166.7917399247087,\n",
       " 167.56621038425433,\n",
       " 168.4147436580711,\n",
       " 168.44496670485208,\n",
       " 168.46322477797926,\n",
       " 168.46409192776744,\n",
       " 168.36236381325196,\n",
       " 168.18408093791723,\n",
       " 168.02860610878034,\n",
       " 168.0324257743791,\n",
       " 168.18059523952766,\n",
       " 168.1281987355466,\n",
       " 167.7112005236851,\n",
       " 167.2755328563425,\n",
       " 167.2772687618233,\n",
       " 167.5774059465585,\n",
       " 167.87457401499753,\n",
       " 168.2007885837808,\n",
       " 168.57720567872494,\n",
       " 169.02464641378734,\n",
       " 169.55293218692444,\n",
       " 170.15866513466008,\n",
       " 171.2238418170733,\n",
       " 172.4584897999505,\n",
       " 173.88930313406982,\n",
       " 175.5438760174538,\n",
       " 177.361082351995,\n",
       " 179.14170713802926,\n",
       " 180.75214665634113,\n",
       " 182.05176016396004,\n",
       " 182.99183590423527,\n",
       " 183.55007753413977,\n",
       " 183.8663414051301,\n",
       " 184.24060532500474,\n",
       " 184.5262540373033,\n",
       " 184.2715374513231,\n",
       " 183.49777310651623,\n",
       " 182.4401652606867,\n",
       " 180.7720092818153,\n",
       " 178.90527032470257,\n",
       " 176.72770476852057,\n",
       " 174.764151968142,\n",
       " 173.0957289860173,\n",
       " 170.24686307673656,\n",
       " 165.65904892580093,\n",
       " 161.1435656478237,\n",
       " 159.7961549071147,\n",
       " 158.594196545637,\n",
       " 157.0144146996141,\n",
       " 155.7759694126701,\n",
       " 155.4487834266906,\n",
       " 155.3106305716207,\n",
       " 155.1818955379188,\n",
       " 154.94135899520793,\n",
       " 154.7380395699423,\n",
       " 154.5691389190525,\n",
       " 154.4307532383235,\n",
       " 154.3164283232605,\n",
       " 154.21935148290416,\n",
       " 154.05726787141796,\n",
       " 153.8879297675135,\n",
       " 153.71246989940462,\n",
       " 153.57724265301002,\n",
       " 153.5309023106524,\n",
       " 153.58798827540366,\n",
       " 153.80806801974066,\n",
       " 154.12282033383738,\n",
       " 154.56337800665918,\n",
       " 155.0772934790617,\n",
       " 155.60776269104852,\n",
       " 156.103725833224,\n",
       " 157.29525334319717,\n",
       " 158.8664857062228,\n",
       " 160.63896728884666,\n",
       " 163.19782569480654,\n",
       " 166.54469364176433,\n",
       " 166.54469364176433,\n",
       " 0]"
      ]
     },
     "execution_count": 7,
     "metadata": {},
     "output_type": "execute_result"
    }
   ],
   "source": [
    "y_series"
   ]
  },
  {
   "cell_type": "code",
   "execution_count": 2,
   "metadata": {},
   "outputs": [],
   "source": [
    "import dxf_parser"
   ]
  },
  {
   "cell_type": "code",
   "execution_count": 131,
   "metadata": {},
   "outputs": [],
   "source": [
    "dxfp = dxf_parser.create_parser(\"/home/schalk/Projects/zarcdev/fastglider/jw48/jw48_nose_front.dxf\")  \n",
    "#output = dxfp.to_selig(\"profilename\")"
   ]
  },
  {
   "cell_type": "code",
   "execution_count": 132,
   "metadata": {},
   "outputs": [],
   "source": [
    "dxfp._parse()\n",
    "x_series, y_series, _,_ = dxfp.to_xy_array(0,0,False, False)"
   ]
  },
  {
   "cell_type": "code",
   "execution_count": 133,
   "metadata": {},
   "outputs": [],
   "source": [
    "import numpy as np\n",
    "items_to_shift = np.argmin(x_series)"
   ]
  },
  {
   "cell_type": "code",
   "execution_count": 134,
   "metadata": {},
   "outputs": [
    {
     "data": {
      "text/plain": [
       "53"
      ]
     },
     "execution_count": 134,
     "metadata": {},
     "output_type": "execute_result"
    }
   ],
   "source": [
    "items_to_shift"
   ]
  },
  {
   "cell_type": "code",
   "execution_count": 135,
   "metadata": {},
   "outputs": [
    {
     "data": {
      "text/plain": [
       "[17.093003564587292,\n",
       " 25.540382044101733,\n",
       " 33.38318697353699,\n",
       " 40.5227082232004,\n",
       " 47.01201746322923,\n",
       " 53.630144402415596,\n",
       " 61.253807955324106,\n",
       " 69.45323129685912,\n",
       " 77.051539306563,\n",
       " 82.74231943673394,\n",
       " 88.06469097780993,\n",
       " 93.87274443971151,\n",
       " 100.1294490281002,\n",
       " 106.2773646269998,\n",
       " 113.28856718344352,\n",
       " 119.35703295560378,\n",
       " 124.78456255707263,\n",
       " 130.19455105368618,\n",
       " 135.34785515177563,\n",
       " 139.27045074134932,\n",
       " 142.88654529456133,\n",
       " 145.5576096599194,\n",
       " 147.36222092303493,\n",
       " 147.9778277815544,\n",
       " 147.51337350144374,\n",
       " 146.14934515368932,\n",
       " 143.5687786269219,\n",
       " 140.36248318334984,\n",
       " 136.62539767290772,\n",
       " 132.6018674635886,\n",
       " 129.998351847382,\n",
       " 127.85316178575724,\n",
       " 125.40833619958991,\n",
       " 121.9222033968405,\n",
       " 117.60341289871243,\n",
       " 112.91064231183591,\n",
       " 108.29390952321009,\n",
       " 101.9525538349179,\n",
       " 95.73048920573049,\n",
       " 89.17724337581129,\n",
       " 81.96671924423813,\n",
       " 73.81626828904203,\n",
       " 64.10888644861242,\n",
       " 53.922686337244585,\n",
       " 43.9747722008934,\n",
       " 34.80324796504638,\n",
       " 26.053464730352317,\n",
       " 17.093003564587292,\n",
       " 17.093003564587292,\n",
       " 17.093003564587292,\n",
       " 17.093003564587292,\n",
       " 17.093003564587292,\n",
       " 17.093003564587292,\n",
       " 0.0,\n",
       " 0.0,\n",
       " 17.093003564587292,\n",
       " 17.093003564587292,\n",
       " 17.093003564587292,\n",
       " 17.093003564587292]"
      ]
     },
     "execution_count": 135,
     "metadata": {},
     "output_type": "execute_result"
    }
   ],
   "source": [
    "x_series"
   ]
  },
  {
   "cell_type": "code",
   "execution_count": null,
   "metadata": {},
   "outputs": [],
   "source": []
  },
  {
   "cell_type": "code",
   "execution_count": 136,
   "metadata": {},
   "outputs": [],
   "source": [
    "x_series = np.roll(x_series, -items_to_shift)\n",
    "y_series = np.roll(y_series, -items_to_shift)"
   ]
  },
  {
   "cell_type": "code",
   "execution_count": 137,
   "metadata": {},
   "outputs": [
    {
     "data": {
      "text/plain": [
       "array([  0.        ,   0.        ,  17.09300356,  17.09300356,\n",
       "        17.09300356,  17.09300356,  17.09300356,  25.54038204,\n",
       "        33.38318697,  40.52270822,  47.01201746,  53.6301444 ,\n",
       "        61.25380796,  69.4532313 ,  77.05153931,  82.74231944,\n",
       "        88.06469098,  93.87274444, 100.12944903, 106.27736463,\n",
       "       113.28856718, 119.35703296, 124.78456256, 130.19455105,\n",
       "       135.34785515, 139.27045074, 142.88654529, 145.55760966,\n",
       "       147.36222092, 147.97782778, 147.5133735 , 146.14934515,\n",
       "       143.56877863, 140.36248318, 136.62539767, 132.60186746,\n",
       "       129.99835185, 127.85316179, 125.4083362 , 121.9222034 ,\n",
       "       117.6034129 , 112.91064231, 108.29390952, 101.95255383,\n",
       "        95.73048921,  89.17724338,  81.96671924,  73.81626829,\n",
       "        64.10888645,  53.92268634,  43.9747722 ,  34.80324797,\n",
       "        26.05346473,  17.09300356,  17.09300356,  17.09300356,\n",
       "        17.09300356,  17.09300356,  17.09300356])"
      ]
     },
     "execution_count": 137,
     "metadata": {},
     "output_type": "execute_result"
    }
   ],
   "source": [
    "x_series"
   ]
  },
  {
   "cell_type": "code",
   "execution_count": 138,
   "metadata": {},
   "outputs": [
    {
     "data": {
      "text/plain": [
       "array([37.90823606, 37.90823606, 15.0871971 , 15.0871971 ,  0.        ,\n",
       "        0.        ,  0.        ,  0.36817039,  0.95798143,  1.67912994,\n",
       "        2.46460059,  3.39866964,  4.59873932,  6.03656729,  7.60062253,\n",
       "        9.06033689, 10.6777692 , 12.56609393, 14.64730686, 16.73175943,\n",
       "       19.20912924, 21.6661618 , 24.28256913, 27.09143355, 30.30597957,\n",
       "       33.51295483, 36.59485678, 38.97518103, 41.30447781, 43.77653888,\n",
       "       45.64082054, 47.24070223, 49.50989207, 51.94377476, 54.44702803,\n",
       "       56.89297155, 58.41313532, 59.61553814, 60.74935982, 62.0691315 ,\n",
       "       63.52931892, 65.00544112, 66.375442  , 68.11924035, 69.66817555,\n",
       "       71.14191817, 72.52091122, 73.73806767, 74.81134737, 75.69737188,\n",
       "       76.44458692, 77.09260378, 77.6369725 , 78.05953395, 78.05953395,\n",
       "       72.54731146, 72.54731146, 61.30935488, 61.30935488])"
      ]
     },
     "execution_count": 138,
     "metadata": {},
     "output_type": "execute_result"
    }
   ],
   "source": [
    "y_series"
   ]
  },
  {
   "cell_type": "code",
   "execution_count": 139,
   "metadata": {},
   "outputs": [],
   "source": [
    "org_x = x_series[0]\n",
    "org_y = y_series[0]\n",
    "x_series = np.array([x-org_x for x in x_series], dtype=np.double)\n",
    "y_series = np.array([y-org_y for y in y_series], dtype=np.double)"
   ]
  },
  {
   "cell_type": "code",
   "execution_count": 140,
   "metadata": {},
   "outputs": [],
   "source": [
    "max_index = np.argmax(x_series)\n",
    "max_x = np.max(x_series)"
   ]
  },
  {
   "cell_type": "code",
   "execution_count": 141,
   "metadata": {},
   "outputs": [
    {
     "data": {
      "text/plain": [
       "147.9778277815544"
      ]
     },
     "execution_count": 141,
     "metadata": {},
     "output_type": "execute_result"
    }
   ],
   "source": [
    "max_x"
   ]
  },
  {
   "cell_type": "code",
   "execution_count": 142,
   "metadata": {},
   "outputs": [],
   "source": [
    "first, second = np.mean(y_series[:max_index]), np.mean(y_series[max_index:])"
   ]
  },
  {
   "cell_type": "code",
   "execution_count": 143,
   "metadata": {},
   "outputs": [
    {
     "data": {
      "text/plain": [
       "(-21.710947871923352, 26.955520301135213)"
      ]
     },
     "execution_count": 143,
     "metadata": {},
     "output_type": "execute_result"
    }
   ],
   "source": [
    "first,second"
   ]
  },
  {
   "cell_type": "code",
   "execution_count": 144,
   "metadata": {},
   "outputs": [],
   "source": [
    "if first < second:\n",
    "    x_series = np.flipud(x_series)\n",
    "    y_series = np.flipud(y_series)\n",
    "    items_to_shift = np.argmin(x_series)\n",
    "    x_series = np.roll(x_series, -items_to_shift)\n",
    "    y_series = np.roll(y_series, -items_to_shift)"
   ]
  },
  {
   "cell_type": "code",
   "execution_count": 145,
   "metadata": {},
   "outputs": [
    {
     "name": "stdout",
     "output_type": "stream",
     "text": [
      "147.9778277815544 [ 0.          0.         17.09300356]\n"
     ]
    }
   ],
   "source": [
    "    \n",
    "    \n",
    "print(max_x, x_series[:3])\n",
    "profile = [((max_x - x)/(max_x),y/(max_x)) for x,y in zip(x_series,y_series)] "
   ]
  },
  {
   "cell_type": "code",
   "execution_count": 146,
   "metadata": {},
   "outputs": [
    {
     "data": {
      "text/plain": [
       "[(1.0, 0.0),\n",
       " (1.0, 0.0),\n",
       " (0.8844894277687325, 0.15813935888753694),\n",
       " (0.8844894277687325, 0.15813935888753694),\n",
       " (0.8844894277687325, 0.23408287523709057),\n",
       " (0.8844894277687325, 0.23408287523709057),\n",
       " (0.8844894277687325, 0.2713332023429523),\n",
       " (0.8844894277687325, 0.2713332023429523),\n",
       " (0.8239366997006297, 0.26847762959490407),\n",
       " (0.764807684456464, 0.2647989114792468),\n",
       " (0.7028286408838953, 0.2604197631417608),\n",
       " (0.6356029335905273, 0.25537025638128),\n",
       " (0.5667669446854546, 0.2493827072998458),\n",
       " (0.5011666991219119, 0.24212973085528147),\n",
       " (0.4460878330688986, 0.23390446853313576),\n",
       " (0.39736077551121257, 0.22458555182819065),\n",
       " (0.35307545298577897, 0.21462633942849835),\n",
       " (0.3110281765629054, 0.20415899286170694),\n",
       " (0.2681747587005122, 0.19237480616075597),\n",
       " (0.23697594427108928, 0.18311665647377987),\n",
       " (0.20526328395413956, 0.17314136345493825),\n",
       " (0.17607789474499744, 0.16327375389416782),\n",
       " (0.15251941402519897, 0.15435504157872784),\n",
       " (0.13599784709304755, 0.14669293638876482),\n",
       " (0.12150114786597484, 0.13856737568673733),\n",
       " (0.10390719034383894, 0.12829445984394852),\n",
       " (0.07671710200669513, 0.11176533823182554),\n",
       " (0.05146274081983666, 0.09484893050603221),\n",
       " (0.02979533637391379, 0.07840131312578517),\n",
       " (0.012356463500493374, 0.06306665201142427),\n",
       " (0.003138674807392685, 0.05225502085960571),\n",
       " (0.0, 0.03965663575789457),\n",
       " (0.004160129039251963, 0.02295101775031192),\n",
       " (0.016355275367386395, 0.007210167815702892),\n",
       " (0.034405711742902745, -0.008875514003504266),\n",
       " (0.05884244397112618, -0.029702295935692062),\n",
       " (0.08535043944842326, -0.051374294430770025),\n",
       " (0.12017527892165017, -0.07309745437229197),\n",
       " (0.1567347323054355, -0.09207911169711547),\n",
       " (0.19341272442653212, -0.10976018844926055),\n",
       " (0.23442201523135842, -0.1263642472499901),\n",
       " (0.2818021035969864, -0.14310574056933809),\n",
       " (0.32334829799021114, -0.15719198987194236),\n",
       " (0.36562966326085744, -0.17125634638532383),\n",
       " (0.40487914778819795, -0.18401720898897206),\n",
       " (0.44084650601251857, -0.19494744317558696),\n",
       " (0.479303484436149, -0.2048118558678227),\n",
       " (0.5306510959237332, -0.2153813800874576),\n",
       " (0.586060906058526, -0.2250978895886858),\n",
       " (0.6375798644538513, -0.23320768346684134),\n",
       " (0.6823036385381424, -0.23951990650171726),\n",
       " (0.7261568923486279, -0.24482793582973839),\n",
       " (0.7744041288211271, -0.24970129094328322),\n",
       " (0.8274039940510238, -0.2536870978046569),\n",
       " (0.8844894277687325, -0.2561751083206563),\n",
       " (0.8844894277687325, -0.2561751083206563),\n",
       " (0.8844894277687325, -0.2561751083206563),\n",
       " (0.8844894277687325, -0.15421931314668938),\n",
       " (0.8844894277687325, -0.15421931314668938)]"
      ]
     },
     "execution_count": 146,
     "metadata": {},
     "output_type": "execute_result"
    }
   ],
   "source": [
    "profile"
   ]
  },
  {
   "cell_type": "code",
   "execution_count": 147,
   "metadata": {},
   "outputs": [],
   "source": [
    "max_index = np.argmax(x_series)"
   ]
  },
  {
   "cell_type": "code",
   "execution_count": 148,
   "metadata": {},
   "outputs": [
    {
     "data": {
      "text/plain": [
       "31"
      ]
     },
     "execution_count": 148,
     "metadata": {},
     "output_type": "execute_result"
    }
   ],
   "source": [
    "max_index"
   ]
  },
  {
   "cell_type": "code",
   "execution_count": 149,
   "metadata": {},
   "outputs": [],
   "source": [
    "from collections import OrderedDict\n",
    "profile_top = list(OrderedDict((round(x,3), (round(x,3),round(y,3))) for x,y in profile[:max_index]).values())\n",
    "profile_bottom = list(OrderedDict((round(x,3), (round(x,3),round(y,3))) for x,y in profile[max_index:]).values())\n",
    "profile_top.extend(profile_bottom)\n",
    "profile_top.append(profile_top[0])\n",
    "\n",
    "output = [\"profilename\"]\n",
    "for x,y in profile_top:\n",
    "    output.append(\"    %.3f     %.3f\" % (x,y))"
   ]
  },
  {
   "cell_type": "code",
   "execution_count": 150,
   "metadata": {},
   "outputs": [
    {
     "data": {
      "text/plain": [
       "['profilename',\n",
       " '    1.000     0.000',\n",
       " '    0.884     0.271',\n",
       " '    0.824     0.268',\n",
       " '    0.765     0.265',\n",
       " '    0.703     0.260',\n",
       " '    0.636     0.255',\n",
       " '    0.567     0.249',\n",
       " '    0.501     0.242',\n",
       " '    0.446     0.234',\n",
       " '    0.397     0.225',\n",
       " '    0.353     0.215',\n",
       " '    0.311     0.204',\n",
       " '    0.268     0.192',\n",
       " '    0.237     0.183',\n",
       " '    0.205     0.173',\n",
       " '    0.176     0.163',\n",
       " '    0.153     0.154',\n",
       " '    0.136     0.147',\n",
       " '    0.122     0.139',\n",
       " '    0.104     0.128',\n",
       " '    0.077     0.112',\n",
       " '    0.051     0.095',\n",
       " '    0.030     0.078',\n",
       " '    0.012     0.063',\n",
       " '    0.003     0.052',\n",
       " '    0.000     0.040',\n",
       " '    0.004     0.023',\n",
       " '    0.016     0.007',\n",
       " '    0.034     -0.009',\n",
       " '    0.059     -0.030',\n",
       " '    0.085     -0.051',\n",
       " '    0.120     -0.073',\n",
       " '    0.157     -0.092',\n",
       " '    0.193     -0.110',\n",
       " '    0.234     -0.126',\n",
       " '    0.282     -0.143',\n",
       " '    0.323     -0.157',\n",
       " '    0.366     -0.171',\n",
       " '    0.405     -0.184',\n",
       " '    0.441     -0.195',\n",
       " '    0.479     -0.205',\n",
       " '    0.531     -0.215',\n",
       " '    0.586     -0.225',\n",
       " '    0.638     -0.233',\n",
       " '    0.682     -0.240',\n",
       " '    0.726     -0.245',\n",
       " '    0.774     -0.250',\n",
       " '    0.827     -0.254',\n",
       " '    0.884     -0.154',\n",
       " '    1.000     0.000']"
      ]
     },
     "execution_count": 150,
     "metadata": {},
     "output_type": "execute_result"
    }
   ],
   "source": [
    "output"
   ]
  },
  {
   "cell_type": "code",
   "execution_count": 8,
   "metadata": {},
   "outputs": [],
   "source": [
    "import svgelements"
   ]
  },
  {
   "cell_type": "code",
   "execution_count": 9,
   "metadata": {},
   "outputs": [
    {
     "data": {
      "text/plain": [
       "['Angle',\n",
       " 'Arc',\n",
       " 'Circle',\n",
       " 'ClipPath',\n",
       " 'Close',\n",
       " 'Color',\n",
       " 'CubicBezier',\n",
       " 'Curve',\n",
       " 'DEFAULT_PPI',\n",
       " 'Desc',\n",
       " 'ERROR',\n",
       " 'Ellipse',\n",
       " 'GraphicObject',\n",
       " 'Group',\n",
       " 'Length',\n",
       " 'Line',\n",
       " 'Linear',\n",
       " 'MIN_DEPTH',\n",
       " 'Matrix',\n",
       " 'Move',\n",
       " 'MutableSequence',\n",
       " 'PATTERN_ANGLE_UNITS',\n",
       " 'PATTERN_COMMA',\n",
       " 'PATTERN_COMMAWSP',\n",
       " 'PATTERN_FLOAT',\n",
       " 'PATTERN_FREQUENCY_UNITS',\n",
       " 'PATTERN_LENGTH_UNITS',\n",
       " 'PATTERN_PERCENT',\n",
       " 'PATTERN_RESOLUTION_UNITS',\n",
       " 'PATTERN_TIME_UNITS',\n",
       " 'PATTERN_TRANSFORM',\n",
       " 'PATTERN_TRANSFORM_UNITS',\n",
       " 'PATTERN_WS',\n",
       " 'Path',\n",
       " 'PathSegment',\n",
       " 'Pattern',\n",
       " 'Point',\n",
       " 'Polygon',\n",
       " 'Polyline',\n",
       " 'QuadraticBezier',\n",
       " 'REGEX_COLOR_HEX',\n",
       " 'REGEX_COLOR_HSL',\n",
       " 'REGEX_COLOR_RGB',\n",
       " 'REGEX_COLOR_RGB_PERCENT',\n",
       " 'REGEX_COORD_PAIR',\n",
       " 'REGEX_CSS_FONT',\n",
       " 'REGEX_CSS_STYLE',\n",
       " 'REGEX_FLOAT',\n",
       " 'REGEX_IRI',\n",
       " 'REGEX_LENGTH',\n",
       " 'REGEX_TRANSFORM_PARAMETER',\n",
       " 'REGEX_TRANSFORM_TEMPLATE',\n",
       " 'Rect',\n",
       " 'SVG',\n",
       " 'SVGDesc',\n",
       " 'SVGELEMENTS_VERSION',\n",
       " 'SVGElement',\n",
       " 'SVGImage',\n",
       " 'SVGLexicalParser',\n",
       " 'SVGText',\n",
       " 'SVG_ATTR_CENTER_X',\n",
       " 'SVG_ATTR_CENTER_Y',\n",
       " 'SVG_ATTR_CLASS',\n",
       " 'SVG_ATTR_CLIP_PATH',\n",
       " 'SVG_ATTR_CLIP_RULE',\n",
       " 'SVG_ATTR_CLIP_UNIT_TYPE',\n",
       " 'SVG_ATTR_COLOR',\n",
       " 'SVG_ATTR_DATA',\n",
       " 'SVG_ATTR_DISPLAY',\n",
       " 'SVG_ATTR_DX',\n",
       " 'SVG_ATTR_DY',\n",
       " 'SVG_ATTR_FILL',\n",
       " 'SVG_ATTR_FILL_OPACITY',\n",
       " 'SVG_ATTR_FONT',\n",
       " 'SVG_ATTR_FONT_FACE',\n",
       " 'SVG_ATTR_FONT_FAMILY',\n",
       " 'SVG_ATTR_FONT_SIZE',\n",
       " 'SVG_ATTR_FONT_WEIGHT',\n",
       " 'SVG_ATTR_HEIGHT',\n",
       " 'SVG_ATTR_ID',\n",
       " 'SVG_ATTR_PATTERN_CONTENT_UNITS',\n",
       " 'SVG_ATTR_PATTERN_TRANSFORM',\n",
       " 'SVG_ATTR_PATTERN_UNITS',\n",
       " 'SVG_ATTR_POINTS',\n",
       " 'SVG_ATTR_PRESERVEASPECTRATIO',\n",
       " 'SVG_ATTR_RADIUS',\n",
       " 'SVG_ATTR_RADIUS_X',\n",
       " 'SVG_ATTR_RADIUS_Y',\n",
       " 'SVG_ATTR_STROKE',\n",
       " 'SVG_ATTR_STROKE_OPACITY',\n",
       " 'SVG_ATTR_STROKE_WIDTH',\n",
       " 'SVG_ATTR_STYLE',\n",
       " 'SVG_ATTR_TAG',\n",
       " 'SVG_ATTR_TEXT_ANCHOR',\n",
       " 'SVG_ATTR_TRANSFORM',\n",
       " 'SVG_ATTR_VECTOR_EFFECT',\n",
       " 'SVG_ATTR_VERSION',\n",
       " 'SVG_ATTR_VIEWBOX',\n",
       " 'SVG_ATTR_WIDTH',\n",
       " 'SVG_ATTR_X',\n",
       " 'SVG_ATTR_X0',\n",
       " 'SVG_ATTR_X1',\n",
       " 'SVG_ATTR_X2',\n",
       " 'SVG_ATTR_XMLNS',\n",
       " 'SVG_ATTR_XMLNS_EV',\n",
       " 'SVG_ATTR_XMLNS_LINK',\n",
       " 'SVG_ATTR_Y',\n",
       " 'SVG_ATTR_Y0',\n",
       " 'SVG_ATTR_Y1',\n",
       " 'SVG_ATTR_Y2',\n",
       " 'SVG_HREF',\n",
       " 'SVG_NAME_TAG',\n",
       " 'SVG_RULE_EVENODD',\n",
       " 'SVG_RULE_NONZERO',\n",
       " 'SVG_STRUCT_ATTRIB',\n",
       " 'SVG_TAG_CIRCLE',\n",
       " 'SVG_TAG_CLIPPATH',\n",
       " 'SVG_TAG_DEFS',\n",
       " 'SVG_TAG_DESC',\n",
       " 'SVG_TAG_ELLIPSE',\n",
       " 'SVG_TAG_GROUP',\n",
       " 'SVG_TAG_IMAGE',\n",
       " 'SVG_TAG_LINE',\n",
       " 'SVG_TAG_METADATA',\n",
       " 'SVG_TAG_PATH',\n",
       " 'SVG_TAG_PATTERN',\n",
       " 'SVG_TAG_POLYGON',\n",
       " 'SVG_TAG_POLYLINE',\n",
       " 'SVG_TAG_RECT',\n",
       " 'SVG_TAG_STYLE',\n",
       " 'SVG_TAG_TEXT',\n",
       " 'SVG_TAG_TITLE',\n",
       " 'SVG_TAG_TSPAN',\n",
       " 'SVG_TAG_USE',\n",
       " 'SVG_TRANSFORM_MATRIX',\n",
       " 'SVG_TRANSFORM_ROTATE',\n",
       " 'SVG_TRANSFORM_SCALE',\n",
       " 'SVG_TRANSFORM_SCALE_X',\n",
       " 'SVG_TRANSFORM_SCALE_Y',\n",
       " 'SVG_TRANSFORM_SKEW',\n",
       " 'SVG_TRANSFORM_SKEW_X',\n",
       " 'SVG_TRANSFORM_SKEW_Y',\n",
       " 'SVG_TRANSFORM_TRANSLATE',\n",
       " 'SVG_TRANSFORM_TRANSLATE_X',\n",
       " 'SVG_TRANSFORM_TRANSLATE_Y',\n",
       " 'SVG_UNIT_TYPE_OBJECTBOUNDINGBOX',\n",
       " 'SVG_UNIT_TYPE_USERSPACEONUSE',\n",
       " 'SVG_VALUE_CURRENT_COLOR',\n",
       " 'SVG_VALUE_NONE',\n",
       " 'SVG_VALUE_NON_SCALING_STROKE',\n",
       " 'SVG_VALUE_VERSION',\n",
       " 'SVG_VALUE_XLINK',\n",
       " 'SVG_VALUE_XMLNS',\n",
       " 'SVG_VALUE_XMLNS_EV',\n",
       " 'SVG_VIEWBOX_TRANSFORM',\n",
       " 'Shape',\n",
       " 'SimpleLine',\n",
       " 'Subpath',\n",
       " 'Title',\n",
       " 'Transformable',\n",
       " 'Viewbox',\n",
       " 'XLINK_HREF',\n",
       " '__builtins__',\n",
       " '__cached__',\n",
       " '__doc__',\n",
       " '__file__',\n",
       " '__loader__',\n",
       " '__name__',\n",
       " '__package__',\n",
       " '__path__',\n",
       " '__spec__',\n",
       " 'acos',\n",
       " 'atan',\n",
       " 'atan2',\n",
       " 'ceil',\n",
       " 'copy',\n",
       " 'cos',\n",
       " 'degrees',\n",
       " 'flag_parse',\n",
       " 'flag_re',\n",
       " 'hypot',\n",
       " 'iterparse',\n",
       " 'log',\n",
       " 'max_depth',\n",
       " 'name',\n",
       " 'num_parse',\n",
       " 'num_re',\n",
       " 'radians',\n",
       " 're',\n",
       " 'sin',\n",
       " 'sqrt',\n",
       " 'svg_parse',\n",
       " 'svg_re',\n",
       " 'svgelements',\n",
       " 'tan',\n",
       " 'tau']"
      ]
     },
     "execution_count": 9,
     "metadata": {},
     "output_type": "execute_result"
    }
   ],
   "source": [
    "dir(svgelements)"
   ]
  },
  {
   "cell_type": "code",
   "execution_count": 12,
   "metadata": {
    "scrolled": true
   },
   "outputs": [],
   "source": [
    "from svgpathtools import svg2paths, wsvg\n",
    "paths, attributes = svg2paths('/home/schalk/Downloads/f.svg')"
   ]
  },
  {
   "cell_type": "code",
   "execution_count": 13,
   "metadata": {},
   "outputs": [
    {
     "data": {
      "text/plain": [
       "[Path(Line(start=0j, end=(12.711948+0j))),\n",
       " Path(Line(start=0.24305600000000016j, end=6.52879j),\n",
       "      CubicBezier(start=6.52879j, control1=(3.84047+3.37961j), control2=(5.8567149999999994+3.45642j), end=(7.370494166666666+3.6356416666666664j)),\n",
       "      CubicBezier(start=(7.370494166666666+3.6356416666666664j), control1=(8.884273333333333+3.8148633333333333j), control2=(9.895586666666667+4.096496666666666j), end=(10.86851+4.358928333333333j)),\n",
       "      CubicBezier(start=(10.86851+4.358928333333333j), control1=(11.841433333333335+4.62136j), control2=(12.775966666666665+4.86459j), end=(13.512066666666666+4.608560000000001j)),\n",
       "      CubicBezier(start=(13.512066666666666+4.608560000000001j), control1=(14.248166666666666+4.352530000000001j), control2=(14.785833333333333+3.59724j), end=(14.805016666666667+2.6339224999999997j)),\n",
       "      CubicBezier(start=(14.805016666666667+2.6339224999999997j), control1=(14.8242+1.670605j), control2=(14.3249+0.49926j), end=(12.5199+0j)))]"
      ]
     },
     "execution_count": 13,
     "metadata": {},
     "output_type": "execute_result"
    }
   ],
   "source": [
    "paths"
   ]
  },
  {
   "cell_type": "code",
   "execution_count": 32,
   "metadata": {},
   "outputs": [
    {
     "name": "stdout",
     "output_type": "stream",
     "text": [
      "[220.0, 140.0]\n",
      "[199.54000000000002, 84.52000000000001]\n",
      "[179.92000000000004, 57.360000000000014]\n",
      "[160.77999999999997, 51.440000000000005]\n",
      "[141.76, 59.68000000000001]\n",
      "[122.5, 75.0]\n",
      "[102.63999999999999, 90.32]\n",
      "[81.81999999999998, 98.56]\n",
      "[59.67999999999999, 92.64000000000001]\n",
      "[35.85999999999999, 65.47999999999999]\n"
     ]
    }
   ],
   "source": [
    "import numpy as np\n",
    "\n",
    "def get_cubic_bezier_point(t, p):\n",
    "  multipliers = [\n",
    "    t * t * t,\n",
    "    3 * t * t * (1 - t),\n",
    "    3 * t * (1 - t) * (1 - t),\n",
    "    (1 - t) * (1 - t) * (1 - t)\n",
    "  ]\n",
    "  x = 0\n",
    "  y = 0\n",
    "  for index in range(4):\n",
    "    x += p[index][0] * multipliers[index]\n",
    "    y += p[index][1] * multipliers[index]\n",
    "  return [x,y]\n",
    "\n",
    "points = [\n",
    "    [10, 10],\n",
    "    [100, 250],\n",
    "    [150, -100],\n",
    "    [220, 140],\n",
    "]  \n",
    "\n",
    "for t in np.arange(0, 1, 0.1):\n",
    "  point = get_cubic_bezier_point(t, points)\n",
    "  print(point)"
   ]
  },
  {
   "cell_type": "code",
   "execution_count": 1,
   "metadata": {},
   "outputs": [],
   "source": [
    "import svgpathtools"
   ]
  },
  {
   "cell_type": "code",
   "execution_count": 66,
   "metadata": {},
   "outputs": [
    {
     "data": {
      "text/plain": [
       "Line(start=0.24305600000000016j, end=6.52879j)"
      ]
     },
     "execution_count": 66,
     "metadata": {},
     "output_type": "execute_result"
    }
   ],
   "source": [
    "path_i"
   ]
  },
  {
   "cell_type": "code",
   "execution_count": 49,
   "metadata": {},
   "outputs": [],
   "source": [
    "import plotly\n",
    "import plotly.graph_objects as go"
   ]
  },
  {
   "cell_type": "code",
   "execution_count": 78,
   "metadata": {},
   "outputs": [
    {
     "data": {
      "application/vnd.plotly.v1+json": {
       "config": {
        "plotlyServerURL": "https://plot.ly"
       },
       "data": [
        {
         "mode": "lines+markers",
         "name": "lines+markers",
         "type": "scatter",
         "x": [
          0,
          1.0987360091666667,
          2.0959490733333332,
          2.9995697475,
          3.8175285866666666,
          4.557756145833332,
          5.22818298,
          5.8367396441666655,
          6.391356693333332,
          6.8999646824999985,
          7.370494166666666,
          7.810018017499999,
          8.222178373333334,
          8.609759689166667,
          8.97554642,
          9.322323020833334,
          9.652873946666666,
          9.969983652500002,
          10.276436593333335,
          10.575017224166668,
          10.86851,
          11.159075256666668,
          11.446376853333334,
          11.729454530000002,
          12.007348026666667,
          12.279097083333333,
          12.543741440000002,
          12.800320836666668,
          13.047875013333336,
          13.285443710000003,
          13.512066666666666,
          13.726623616666666,
          13.927354266666665,
          14.112338316666666,
          14.279655466666664,
          14.427385416666665,
          14.553607866666663,
          14.656402516666663,
          14.733849066666663,
          14.784027216666662,
          14.805016666666667,
          14.79442995,
          14.748010933333333,
          14.661036316666666,
          14.528782799999998,
          14.34652708333333,
          14.109545866666663,
          13.813115849999994,
          13.452513733333326,
          13.023016216666658
         ],
         "y": [
          6.52879,
          5.6776921216666665,
          5.001412173333333,
          4.4812086849999995,
          4.098340186666666,
          3.8340652083333326,
          3.669642279999999,
          3.5863299316666657,
          3.5653866933333314,
          3.5880710949999988,
          3.6356416666666664,
          3.692358903333333,
          3.7544911599999997,
          3.8213087566666664,
          3.8920820133333334,
          3.96608125,
          4.042576786666666,
          4.120838943333333,
          4.200138040000001,
          4.279744396666667,
          4.358928333333333,
          4.436601725,
          4.510242666666667,
          4.576970808333333,
          4.6339058,
          4.678167291666667,
          4.706874933333333,
          4.717148375,
          4.706107266666667,
          4.670871258333333,
          4.608560000000001,
          4.517064432500001,
          4.39736066,
          4.2511960775,
          4.0803180800000005,
          3.8864740625,
          3.6714114199999996,
          3.4368775474999995,
          3.184619839999999,
          2.916385692499999,
          2.6339224999999997,
          2.3395665374999997,
          2.0380095999999996,
          1.7345323624999995,
          1.4344154999999998,
          1.1429396874999997,
          0.8653855999999998,
          0.6070339124999999,
          0.3731652999999997,
          0.16906043749999977
         ]
        }
       ],
       "layout": {
        "clickmode": "event+select",
        "scene": {
         "aspectmode": "data"
        },
        "template": {
         "data": {
          "bar": [
           {
            "error_x": {
             "color": "#2a3f5f"
            },
            "error_y": {
             "color": "#2a3f5f"
            },
            "marker": {
             "line": {
              "color": "#E5ECF6",
              "width": 0.5
             }
            },
            "type": "bar"
           }
          ],
          "barpolar": [
           {
            "marker": {
             "line": {
              "color": "#E5ECF6",
              "width": 0.5
             }
            },
            "type": "barpolar"
           }
          ],
          "carpet": [
           {
            "aaxis": {
             "endlinecolor": "#2a3f5f",
             "gridcolor": "white",
             "linecolor": "white",
             "minorgridcolor": "white",
             "startlinecolor": "#2a3f5f"
            },
            "baxis": {
             "endlinecolor": "#2a3f5f",
             "gridcolor": "white",
             "linecolor": "white",
             "minorgridcolor": "white",
             "startlinecolor": "#2a3f5f"
            },
            "type": "carpet"
           }
          ],
          "choropleth": [
           {
            "colorbar": {
             "outlinewidth": 0,
             "ticks": ""
            },
            "type": "choropleth"
           }
          ],
          "contour": [
           {
            "colorbar": {
             "outlinewidth": 0,
             "ticks": ""
            },
            "colorscale": [
             [
              0,
              "#0d0887"
             ],
             [
              0.1111111111111111,
              "#46039f"
             ],
             [
              0.2222222222222222,
              "#7201a8"
             ],
             [
              0.3333333333333333,
              "#9c179e"
             ],
             [
              0.4444444444444444,
              "#bd3786"
             ],
             [
              0.5555555555555556,
              "#d8576b"
             ],
             [
              0.6666666666666666,
              "#ed7953"
             ],
             [
              0.7777777777777778,
              "#fb9f3a"
             ],
             [
              0.8888888888888888,
              "#fdca26"
             ],
             [
              1,
              "#f0f921"
             ]
            ],
            "type": "contour"
           }
          ],
          "contourcarpet": [
           {
            "colorbar": {
             "outlinewidth": 0,
             "ticks": ""
            },
            "type": "contourcarpet"
           }
          ],
          "heatmap": [
           {
            "colorbar": {
             "outlinewidth": 0,
             "ticks": ""
            },
            "colorscale": [
             [
              0,
              "#0d0887"
             ],
             [
              0.1111111111111111,
              "#46039f"
             ],
             [
              0.2222222222222222,
              "#7201a8"
             ],
             [
              0.3333333333333333,
              "#9c179e"
             ],
             [
              0.4444444444444444,
              "#bd3786"
             ],
             [
              0.5555555555555556,
              "#d8576b"
             ],
             [
              0.6666666666666666,
              "#ed7953"
             ],
             [
              0.7777777777777778,
              "#fb9f3a"
             ],
             [
              0.8888888888888888,
              "#fdca26"
             ],
             [
              1,
              "#f0f921"
             ]
            ],
            "type": "heatmap"
           }
          ],
          "heatmapgl": [
           {
            "colorbar": {
             "outlinewidth": 0,
             "ticks": ""
            },
            "colorscale": [
             [
              0,
              "#0d0887"
             ],
             [
              0.1111111111111111,
              "#46039f"
             ],
             [
              0.2222222222222222,
              "#7201a8"
             ],
             [
              0.3333333333333333,
              "#9c179e"
             ],
             [
              0.4444444444444444,
              "#bd3786"
             ],
             [
              0.5555555555555556,
              "#d8576b"
             ],
             [
              0.6666666666666666,
              "#ed7953"
             ],
             [
              0.7777777777777778,
              "#fb9f3a"
             ],
             [
              0.8888888888888888,
              "#fdca26"
             ],
             [
              1,
              "#f0f921"
             ]
            ],
            "type": "heatmapgl"
           }
          ],
          "histogram": [
           {
            "marker": {
             "colorbar": {
              "outlinewidth": 0,
              "ticks": ""
             }
            },
            "type": "histogram"
           }
          ],
          "histogram2d": [
           {
            "colorbar": {
             "outlinewidth": 0,
             "ticks": ""
            },
            "colorscale": [
             [
              0,
              "#0d0887"
             ],
             [
              0.1111111111111111,
              "#46039f"
             ],
             [
              0.2222222222222222,
              "#7201a8"
             ],
             [
              0.3333333333333333,
              "#9c179e"
             ],
             [
              0.4444444444444444,
              "#bd3786"
             ],
             [
              0.5555555555555556,
              "#d8576b"
             ],
             [
              0.6666666666666666,
              "#ed7953"
             ],
             [
              0.7777777777777778,
              "#fb9f3a"
             ],
             [
              0.8888888888888888,
              "#fdca26"
             ],
             [
              1,
              "#f0f921"
             ]
            ],
            "type": "histogram2d"
           }
          ],
          "histogram2dcontour": [
           {
            "colorbar": {
             "outlinewidth": 0,
             "ticks": ""
            },
            "colorscale": [
             [
              0,
              "#0d0887"
             ],
             [
              0.1111111111111111,
              "#46039f"
             ],
             [
              0.2222222222222222,
              "#7201a8"
             ],
             [
              0.3333333333333333,
              "#9c179e"
             ],
             [
              0.4444444444444444,
              "#bd3786"
             ],
             [
              0.5555555555555556,
              "#d8576b"
             ],
             [
              0.6666666666666666,
              "#ed7953"
             ],
             [
              0.7777777777777778,
              "#fb9f3a"
             ],
             [
              0.8888888888888888,
              "#fdca26"
             ],
             [
              1,
              "#f0f921"
             ]
            ],
            "type": "histogram2dcontour"
           }
          ],
          "mesh3d": [
           {
            "colorbar": {
             "outlinewidth": 0,
             "ticks": ""
            },
            "type": "mesh3d"
           }
          ],
          "parcoords": [
           {
            "line": {
             "colorbar": {
              "outlinewidth": 0,
              "ticks": ""
             }
            },
            "type": "parcoords"
           }
          ],
          "pie": [
           {
            "automargin": true,
            "type": "pie"
           }
          ],
          "scatter": [
           {
            "marker": {
             "colorbar": {
              "outlinewidth": 0,
              "ticks": ""
             }
            },
            "type": "scatter"
           }
          ],
          "scatter3d": [
           {
            "line": {
             "colorbar": {
              "outlinewidth": 0,
              "ticks": ""
             }
            },
            "marker": {
             "colorbar": {
              "outlinewidth": 0,
              "ticks": ""
             }
            },
            "type": "scatter3d"
           }
          ],
          "scattercarpet": [
           {
            "marker": {
             "colorbar": {
              "outlinewidth": 0,
              "ticks": ""
             }
            },
            "type": "scattercarpet"
           }
          ],
          "scattergeo": [
           {
            "marker": {
             "colorbar": {
              "outlinewidth": 0,
              "ticks": ""
             }
            },
            "type": "scattergeo"
           }
          ],
          "scattergl": [
           {
            "marker": {
             "colorbar": {
              "outlinewidth": 0,
              "ticks": ""
             }
            },
            "type": "scattergl"
           }
          ],
          "scattermapbox": [
           {
            "marker": {
             "colorbar": {
              "outlinewidth": 0,
              "ticks": ""
             }
            },
            "type": "scattermapbox"
           }
          ],
          "scatterpolar": [
           {
            "marker": {
             "colorbar": {
              "outlinewidth": 0,
              "ticks": ""
             }
            },
            "type": "scatterpolar"
           }
          ],
          "scatterpolargl": [
           {
            "marker": {
             "colorbar": {
              "outlinewidth": 0,
              "ticks": ""
             }
            },
            "type": "scatterpolargl"
           }
          ],
          "scatterternary": [
           {
            "marker": {
             "colorbar": {
              "outlinewidth": 0,
              "ticks": ""
             }
            },
            "type": "scatterternary"
           }
          ],
          "surface": [
           {
            "colorbar": {
             "outlinewidth": 0,
             "ticks": ""
            },
            "colorscale": [
             [
              0,
              "#0d0887"
             ],
             [
              0.1111111111111111,
              "#46039f"
             ],
             [
              0.2222222222222222,
              "#7201a8"
             ],
             [
              0.3333333333333333,
              "#9c179e"
             ],
             [
              0.4444444444444444,
              "#bd3786"
             ],
             [
              0.5555555555555556,
              "#d8576b"
             ],
             [
              0.6666666666666666,
              "#ed7953"
             ],
             [
              0.7777777777777778,
              "#fb9f3a"
             ],
             [
              0.8888888888888888,
              "#fdca26"
             ],
             [
              1,
              "#f0f921"
             ]
            ],
            "type": "surface"
           }
          ],
          "table": [
           {
            "cells": {
             "fill": {
              "color": "#EBF0F8"
             },
             "line": {
              "color": "white"
             }
            },
            "header": {
             "fill": {
              "color": "#C8D4E3"
             },
             "line": {
              "color": "white"
             }
            },
            "type": "table"
           }
          ]
         },
         "layout": {
          "annotationdefaults": {
           "arrowcolor": "#2a3f5f",
           "arrowhead": 0,
           "arrowwidth": 1
          },
          "autotypenumbers": "strict",
          "coloraxis": {
           "colorbar": {
            "outlinewidth": 0,
            "ticks": ""
           }
          },
          "colorscale": {
           "diverging": [
            [
             0,
             "#8e0152"
            ],
            [
             0.1,
             "#c51b7d"
            ],
            [
             0.2,
             "#de77ae"
            ],
            [
             0.3,
             "#f1b6da"
            ],
            [
             0.4,
             "#fde0ef"
            ],
            [
             0.5,
             "#f7f7f7"
            ],
            [
             0.6,
             "#e6f5d0"
            ],
            [
             0.7,
             "#b8e186"
            ],
            [
             0.8,
             "#7fbc41"
            ],
            [
             0.9,
             "#4d9221"
            ],
            [
             1,
             "#276419"
            ]
           ],
           "sequential": [
            [
             0,
             "#0d0887"
            ],
            [
             0.1111111111111111,
             "#46039f"
            ],
            [
             0.2222222222222222,
             "#7201a8"
            ],
            [
             0.3333333333333333,
             "#9c179e"
            ],
            [
             0.4444444444444444,
             "#bd3786"
            ],
            [
             0.5555555555555556,
             "#d8576b"
            ],
            [
             0.6666666666666666,
             "#ed7953"
            ],
            [
             0.7777777777777778,
             "#fb9f3a"
            ],
            [
             0.8888888888888888,
             "#fdca26"
            ],
            [
             1,
             "#f0f921"
            ]
           ],
           "sequentialminus": [
            [
             0,
             "#0d0887"
            ],
            [
             0.1111111111111111,
             "#46039f"
            ],
            [
             0.2222222222222222,
             "#7201a8"
            ],
            [
             0.3333333333333333,
             "#9c179e"
            ],
            [
             0.4444444444444444,
             "#bd3786"
            ],
            [
             0.5555555555555556,
             "#d8576b"
            ],
            [
             0.6666666666666666,
             "#ed7953"
            ],
            [
             0.7777777777777778,
             "#fb9f3a"
            ],
            [
             0.8888888888888888,
             "#fdca26"
            ],
            [
             1,
             "#f0f921"
            ]
           ]
          },
          "colorway": [
           "#636efa",
           "#EF553B",
           "#00cc96",
           "#ab63fa",
           "#FFA15A",
           "#19d3f3",
           "#FF6692",
           "#B6E880",
           "#FF97FF",
           "#FECB52"
          ],
          "font": {
           "color": "#2a3f5f"
          },
          "geo": {
           "bgcolor": "white",
           "lakecolor": "white",
           "landcolor": "#E5ECF6",
           "showlakes": true,
           "showland": true,
           "subunitcolor": "white"
          },
          "hoverlabel": {
           "align": "left"
          },
          "hovermode": "closest",
          "mapbox": {
           "style": "light"
          },
          "paper_bgcolor": "white",
          "plot_bgcolor": "#E5ECF6",
          "polar": {
           "angularaxis": {
            "gridcolor": "white",
            "linecolor": "white",
            "ticks": ""
           },
           "bgcolor": "#E5ECF6",
           "radialaxis": {
            "gridcolor": "white",
            "linecolor": "white",
            "ticks": ""
           }
          },
          "scene": {
           "xaxis": {
            "backgroundcolor": "#E5ECF6",
            "gridcolor": "white",
            "gridwidth": 2,
            "linecolor": "white",
            "showbackground": true,
            "ticks": "",
            "zerolinecolor": "white"
           },
           "yaxis": {
            "backgroundcolor": "#E5ECF6",
            "gridcolor": "white",
            "gridwidth": 2,
            "linecolor": "white",
            "showbackground": true,
            "ticks": "",
            "zerolinecolor": "white"
           },
           "zaxis": {
            "backgroundcolor": "#E5ECF6",
            "gridcolor": "white",
            "gridwidth": 2,
            "linecolor": "white",
            "showbackground": true,
            "ticks": "",
            "zerolinecolor": "white"
           }
          },
          "shapedefaults": {
           "line": {
            "color": "#2a3f5f"
           }
          },
          "ternary": {
           "aaxis": {
            "gridcolor": "white",
            "linecolor": "white",
            "ticks": ""
           },
           "baxis": {
            "gridcolor": "white",
            "linecolor": "white",
            "ticks": ""
           },
           "bgcolor": "#E5ECF6",
           "caxis": {
            "gridcolor": "white",
            "linecolor": "white",
            "ticks": ""
           }
          },
          "title": {
           "x": 0.05
          },
          "xaxis": {
           "automargin": true,
           "gridcolor": "white",
           "linecolor": "white",
           "ticks": "",
           "title": {
            "standoff": 15
           },
           "zerolinecolor": "white",
           "zerolinewidth": 2
          },
          "yaxis": {
           "automargin": true,
           "gridcolor": "white",
           "linecolor": "white",
           "ticks": "",
           "title": {
            "standoff": 15
           },
           "zerolinecolor": "white",
           "zerolinewidth": 2
          }
         }
        },
        "yaxis": {
         "constrain": "domain",
         "scaleanchor": "x",
         "scaleratio": 1
        }
       }
      },
      "text/html": [
       "<div>                            <div id=\"8174965a-07a1-484d-b19c-4d92e89da38d\" class=\"plotly-graph-div\" style=\"height:525px; width:100%;\"></div>            <script type=\"text/javascript\">                require([\"plotly\"], function(Plotly) {                    window.PLOTLYENV=window.PLOTLYENV || {};                                    if (document.getElementById(\"8174965a-07a1-484d-b19c-4d92e89da38d\")) {                    Plotly.newPlot(                        \"8174965a-07a1-484d-b19c-4d92e89da38d\",                        [{\"mode\": \"lines+markers\", \"name\": \"lines+markers\", \"type\": \"scatter\", \"x\": [0.0, 1.0987360091666667, 2.0959490733333332, 2.9995697475, 3.8175285866666666, 4.557756145833332, 5.22818298, 5.8367396441666655, 6.391356693333332, 6.8999646824999985, 7.370494166666666, 7.810018017499999, 8.222178373333334, 8.609759689166667, 8.97554642, 9.322323020833334, 9.652873946666666, 9.969983652500002, 10.276436593333335, 10.575017224166668, 10.86851, 11.159075256666668, 11.446376853333334, 11.729454530000002, 12.007348026666667, 12.279097083333333, 12.543741440000002, 12.800320836666668, 13.047875013333336, 13.285443710000003, 13.512066666666666, 13.726623616666666, 13.927354266666665, 14.112338316666666, 14.279655466666664, 14.427385416666665, 14.553607866666663, 14.656402516666663, 14.733849066666663, 14.784027216666662, 14.805016666666667, 14.79442995, 14.748010933333333, 14.661036316666666, 14.528782799999998, 14.34652708333333, 14.109545866666663, 13.813115849999994, 13.452513733333326, 13.023016216666658], \"y\": [6.52879, 5.6776921216666665, 5.001412173333333, 4.4812086849999995, 4.098340186666666, 3.8340652083333326, 3.669642279999999, 3.5863299316666657, 3.5653866933333314, 3.5880710949999988, 3.6356416666666664, 3.692358903333333, 3.7544911599999997, 3.8213087566666664, 3.8920820133333334, 3.96608125, 4.042576786666666, 4.120838943333333, 4.200138040000001, 4.279744396666667, 4.358928333333333, 4.436601725, 4.510242666666667, 4.576970808333333, 4.6339058, 4.678167291666667, 4.706874933333333, 4.717148375, 4.706107266666667, 4.670871258333333, 4.608560000000001, 4.517064432500001, 4.39736066, 4.2511960775, 4.0803180800000005, 3.8864740625, 3.6714114199999996, 3.4368775474999995, 3.184619839999999, 2.916385692499999, 2.6339224999999997, 2.3395665374999997, 2.0380095999999996, 1.7345323624999995, 1.4344154999999998, 1.1429396874999997, 0.8653855999999998, 0.6070339124999999, 0.3731652999999997, 0.16906043749999977]}],                        {\"clickmode\": \"event+select\", \"scene\": {\"aspectmode\": \"data\"}, \"template\": {\"data\": {\"bar\": [{\"error_x\": {\"color\": \"#2a3f5f\"}, \"error_y\": {\"color\": \"#2a3f5f\"}, \"marker\": {\"line\": {\"color\": \"#E5ECF6\", \"width\": 0.5}}, \"type\": \"bar\"}], \"barpolar\": [{\"marker\": {\"line\": {\"color\": \"#E5ECF6\", \"width\": 0.5}}, \"type\": \"barpolar\"}], \"carpet\": [{\"aaxis\": {\"endlinecolor\": \"#2a3f5f\", \"gridcolor\": \"white\", \"linecolor\": \"white\", \"minorgridcolor\": \"white\", \"startlinecolor\": \"#2a3f5f\"}, \"baxis\": {\"endlinecolor\": \"#2a3f5f\", \"gridcolor\": \"white\", \"linecolor\": \"white\", \"minorgridcolor\": \"white\", \"startlinecolor\": \"#2a3f5f\"}, \"type\": \"carpet\"}], \"choropleth\": [{\"colorbar\": {\"outlinewidth\": 0, \"ticks\": \"\"}, \"type\": \"choropleth\"}], \"contour\": [{\"colorbar\": {\"outlinewidth\": 0, \"ticks\": \"\"}, \"colorscale\": [[0.0, \"#0d0887\"], [0.1111111111111111, \"#46039f\"], [0.2222222222222222, \"#7201a8\"], [0.3333333333333333, \"#9c179e\"], [0.4444444444444444, \"#bd3786\"], [0.5555555555555556, \"#d8576b\"], [0.6666666666666666, \"#ed7953\"], [0.7777777777777778, \"#fb9f3a\"], [0.8888888888888888, \"#fdca26\"], [1.0, \"#f0f921\"]], \"type\": \"contour\"}], \"contourcarpet\": [{\"colorbar\": {\"outlinewidth\": 0, \"ticks\": \"\"}, \"type\": \"contourcarpet\"}], \"heatmap\": [{\"colorbar\": {\"outlinewidth\": 0, \"ticks\": \"\"}, \"colorscale\": [[0.0, \"#0d0887\"], [0.1111111111111111, \"#46039f\"], [0.2222222222222222, \"#7201a8\"], [0.3333333333333333, \"#9c179e\"], [0.4444444444444444, \"#bd3786\"], [0.5555555555555556, \"#d8576b\"], [0.6666666666666666, \"#ed7953\"], [0.7777777777777778, \"#fb9f3a\"], [0.8888888888888888, \"#fdca26\"], [1.0, \"#f0f921\"]], \"type\": \"heatmap\"}], \"heatmapgl\": [{\"colorbar\": {\"outlinewidth\": 0, \"ticks\": \"\"}, \"colorscale\": [[0.0, \"#0d0887\"], [0.1111111111111111, \"#46039f\"], [0.2222222222222222, \"#7201a8\"], [0.3333333333333333, \"#9c179e\"], [0.4444444444444444, \"#bd3786\"], [0.5555555555555556, \"#d8576b\"], [0.6666666666666666, \"#ed7953\"], [0.7777777777777778, \"#fb9f3a\"], [0.8888888888888888, \"#fdca26\"], [1.0, \"#f0f921\"]], \"type\": \"heatmapgl\"}], \"histogram\": [{\"marker\": {\"colorbar\": {\"outlinewidth\": 0, \"ticks\": \"\"}}, \"type\": \"histogram\"}], \"histogram2d\": [{\"colorbar\": {\"outlinewidth\": 0, \"ticks\": \"\"}, \"colorscale\": [[0.0, \"#0d0887\"], [0.1111111111111111, \"#46039f\"], [0.2222222222222222, \"#7201a8\"], [0.3333333333333333, \"#9c179e\"], [0.4444444444444444, \"#bd3786\"], [0.5555555555555556, \"#d8576b\"], [0.6666666666666666, \"#ed7953\"], [0.7777777777777778, \"#fb9f3a\"], [0.8888888888888888, \"#fdca26\"], [1.0, \"#f0f921\"]], \"type\": \"histogram2d\"}], \"histogram2dcontour\": [{\"colorbar\": {\"outlinewidth\": 0, \"ticks\": \"\"}, \"colorscale\": [[0.0, \"#0d0887\"], [0.1111111111111111, \"#46039f\"], [0.2222222222222222, \"#7201a8\"], [0.3333333333333333, \"#9c179e\"], [0.4444444444444444, \"#bd3786\"], [0.5555555555555556, \"#d8576b\"], [0.6666666666666666, \"#ed7953\"], [0.7777777777777778, \"#fb9f3a\"], [0.8888888888888888, \"#fdca26\"], [1.0, \"#f0f921\"]], \"type\": \"histogram2dcontour\"}], \"mesh3d\": [{\"colorbar\": {\"outlinewidth\": 0, \"ticks\": \"\"}, \"type\": \"mesh3d\"}], \"parcoords\": [{\"line\": {\"colorbar\": {\"outlinewidth\": 0, \"ticks\": \"\"}}, \"type\": \"parcoords\"}], \"pie\": [{\"automargin\": true, \"type\": \"pie\"}], \"scatter\": [{\"marker\": {\"colorbar\": {\"outlinewidth\": 0, \"ticks\": \"\"}}, \"type\": \"scatter\"}], \"scatter3d\": [{\"line\": {\"colorbar\": {\"outlinewidth\": 0, \"ticks\": \"\"}}, \"marker\": {\"colorbar\": {\"outlinewidth\": 0, \"ticks\": \"\"}}, \"type\": \"scatter3d\"}], \"scattercarpet\": [{\"marker\": {\"colorbar\": {\"outlinewidth\": 0, \"ticks\": \"\"}}, \"type\": \"scattercarpet\"}], \"scattergeo\": [{\"marker\": {\"colorbar\": {\"outlinewidth\": 0, \"ticks\": \"\"}}, \"type\": \"scattergeo\"}], \"scattergl\": [{\"marker\": {\"colorbar\": {\"outlinewidth\": 0, \"ticks\": \"\"}}, \"type\": \"scattergl\"}], \"scattermapbox\": [{\"marker\": {\"colorbar\": {\"outlinewidth\": 0, \"ticks\": \"\"}}, \"type\": \"scattermapbox\"}], \"scatterpolar\": [{\"marker\": {\"colorbar\": {\"outlinewidth\": 0, \"ticks\": \"\"}}, \"type\": \"scatterpolar\"}], \"scatterpolargl\": [{\"marker\": {\"colorbar\": {\"outlinewidth\": 0, \"ticks\": \"\"}}, \"type\": \"scatterpolargl\"}], \"scatterternary\": [{\"marker\": {\"colorbar\": {\"outlinewidth\": 0, \"ticks\": \"\"}}, \"type\": \"scatterternary\"}], \"surface\": [{\"colorbar\": {\"outlinewidth\": 0, \"ticks\": \"\"}, \"colorscale\": [[0.0, \"#0d0887\"], [0.1111111111111111, \"#46039f\"], [0.2222222222222222, \"#7201a8\"], [0.3333333333333333, \"#9c179e\"], [0.4444444444444444, \"#bd3786\"], [0.5555555555555556, \"#d8576b\"], [0.6666666666666666, \"#ed7953\"], [0.7777777777777778, \"#fb9f3a\"], [0.8888888888888888, \"#fdca26\"], [1.0, \"#f0f921\"]], \"type\": \"surface\"}], \"table\": [{\"cells\": {\"fill\": {\"color\": \"#EBF0F8\"}, \"line\": {\"color\": \"white\"}}, \"header\": {\"fill\": {\"color\": \"#C8D4E3\"}, \"line\": {\"color\": \"white\"}}, \"type\": \"table\"}]}, \"layout\": {\"annotationdefaults\": {\"arrowcolor\": \"#2a3f5f\", \"arrowhead\": 0, \"arrowwidth\": 1}, \"autotypenumbers\": \"strict\", \"coloraxis\": {\"colorbar\": {\"outlinewidth\": 0, \"ticks\": \"\"}}, \"colorscale\": {\"diverging\": [[0, \"#8e0152\"], [0.1, \"#c51b7d\"], [0.2, \"#de77ae\"], [0.3, \"#f1b6da\"], [0.4, \"#fde0ef\"], [0.5, \"#f7f7f7\"], [0.6, \"#e6f5d0\"], [0.7, \"#b8e186\"], [0.8, \"#7fbc41\"], [0.9, \"#4d9221\"], [1, \"#276419\"]], \"sequential\": [[0.0, \"#0d0887\"], [0.1111111111111111, \"#46039f\"], [0.2222222222222222, \"#7201a8\"], [0.3333333333333333, \"#9c179e\"], [0.4444444444444444, \"#bd3786\"], [0.5555555555555556, \"#d8576b\"], [0.6666666666666666, \"#ed7953\"], [0.7777777777777778, \"#fb9f3a\"], [0.8888888888888888, \"#fdca26\"], [1.0, \"#f0f921\"]], \"sequentialminus\": [[0.0, \"#0d0887\"], [0.1111111111111111, \"#46039f\"], [0.2222222222222222, \"#7201a8\"], [0.3333333333333333, \"#9c179e\"], [0.4444444444444444, \"#bd3786\"], [0.5555555555555556, \"#d8576b\"], [0.6666666666666666, \"#ed7953\"], [0.7777777777777778, \"#fb9f3a\"], [0.8888888888888888, \"#fdca26\"], [1.0, \"#f0f921\"]]}, \"colorway\": [\"#636efa\", \"#EF553B\", \"#00cc96\", \"#ab63fa\", \"#FFA15A\", \"#19d3f3\", \"#FF6692\", \"#B6E880\", \"#FF97FF\", \"#FECB52\"], \"font\": {\"color\": \"#2a3f5f\"}, \"geo\": {\"bgcolor\": \"white\", \"lakecolor\": \"white\", \"landcolor\": \"#E5ECF6\", \"showlakes\": true, \"showland\": true, \"subunitcolor\": \"white\"}, \"hoverlabel\": {\"align\": \"left\"}, \"hovermode\": \"closest\", \"mapbox\": {\"style\": \"light\"}, \"paper_bgcolor\": \"white\", \"plot_bgcolor\": \"#E5ECF6\", \"polar\": {\"angularaxis\": {\"gridcolor\": \"white\", \"linecolor\": \"white\", \"ticks\": \"\"}, \"bgcolor\": \"#E5ECF6\", \"radialaxis\": {\"gridcolor\": \"white\", \"linecolor\": \"white\", \"ticks\": \"\"}}, \"scene\": {\"xaxis\": {\"backgroundcolor\": \"#E5ECF6\", \"gridcolor\": \"white\", \"gridwidth\": 2, \"linecolor\": \"white\", \"showbackground\": true, \"ticks\": \"\", \"zerolinecolor\": \"white\"}, \"yaxis\": {\"backgroundcolor\": \"#E5ECF6\", \"gridcolor\": \"white\", \"gridwidth\": 2, \"linecolor\": \"white\", \"showbackground\": true, \"ticks\": \"\", \"zerolinecolor\": \"white\"}, \"zaxis\": {\"backgroundcolor\": \"#E5ECF6\", \"gridcolor\": \"white\", \"gridwidth\": 2, \"linecolor\": \"white\", \"showbackground\": true, \"ticks\": \"\", \"zerolinecolor\": \"white\"}}, \"shapedefaults\": {\"line\": {\"color\": \"#2a3f5f\"}}, \"ternary\": {\"aaxis\": {\"gridcolor\": \"white\", \"linecolor\": \"white\", \"ticks\": \"\"}, \"baxis\": {\"gridcolor\": \"white\", \"linecolor\": \"white\", \"ticks\": \"\"}, \"bgcolor\": \"#E5ECF6\", \"caxis\": {\"gridcolor\": \"white\", \"linecolor\": \"white\", \"ticks\": \"\"}}, \"title\": {\"x\": 0.05}, \"xaxis\": {\"automargin\": true, \"gridcolor\": \"white\", \"linecolor\": \"white\", \"ticks\": \"\", \"title\": {\"standoff\": 15}, \"zerolinecolor\": \"white\", \"zerolinewidth\": 2}, \"yaxis\": {\"automargin\": true, \"gridcolor\": \"white\", \"linecolor\": \"white\", \"ticks\": \"\", \"title\": {\"standoff\": 15}, \"zerolinecolor\": \"white\", \"zerolinewidth\": 2}}}, \"yaxis\": {\"constrain\": \"domain\", \"scaleanchor\": \"x\", \"scaleratio\": 1}},                        {\"responsive\": true}                    ).then(function(){\n",
       "                            \n",
       "var gd = document.getElementById('8174965a-07a1-484d-b19c-4d92e89da38d');\n",
       "var x = new MutationObserver(function (mutations, observer) {{\n",
       "        var display = window.getComputedStyle(gd).display;\n",
       "        if (!display || display === 'none') {{\n",
       "            console.log([gd, 'removed!']);\n",
       "            Plotly.purge(gd);\n",
       "            observer.disconnect();\n",
       "        }}\n",
       "}});\n",
       "\n",
       "// Listen for the removal of the full notebook cells\n",
       "var notebookContainer = gd.closest('#notebook-container');\n",
       "if (notebookContainer) {{\n",
       "    x.observe(notebookContainer, {childList: true});\n",
       "}}\n",
       "\n",
       "// Listen for the clearing of the current output cell\n",
       "var outputEl = gd.closest('.output');\n",
       "if (outputEl) {{\n",
       "    x.observe(outputEl, {childList: true});\n",
       "}}\n",
       "\n",
       "                        })                };                });            </script>        </div>"
      ]
     },
     "metadata": {},
     "output_type": "display_data"
    }
   ],
   "source": [
    "fig = go.Figure()\n",
    "\n",
    "x_series = []\n",
    "y_series = []\n",
    "for path_i in paths[1]:\n",
    "    #print(path_i)\n",
    "    if path_i.__class__ is svgpathtools.Line:\n",
    "        pass\n",
    "    elif path_i.__class__ is svgpathtools.CubicBezier:\n",
    "        points = [[c.real, c.imag] for c in path_i]\n",
    "\n",
    "        for t in np.arange(0, 1, 0.1):\n",
    "            #print(points)\n",
    "            #x,y = get_cubic_bezier_point(t, points)\n",
    "            c = path_i.point(t)\n",
    "            x_series.append(c.real)\n",
    "            y_series.append(c.imag)\n",
    "\n",
    "fig.add_trace(go.Scatter(x=x_series, y=y_series,\n",
    "                    mode='lines+markers',\n",
    "                    name='lines+markers'))\n",
    "fig.update_layout(scene_aspectmode='data')\n",
    "fig.update_yaxes(\n",
    "            scaleanchor = \"x\",\n",
    "            scaleratio = 1,\n",
    "            constrain='domain'\n",
    "        )\n",
    "\n",
    "fig.update_layout(clickmode='event+select')\n"
   ]
  },
  {
   "cell_type": "code",
   "execution_count": 15,
   "metadata": {},
   "outputs": [],
   "source": [
    "from svgpathtools import Path, Line, QuadraticBezier, CubicBezier, Arc\n",
    "seg1 = CubicBezier(300+100j, 100+100j, 200+200j, 200+300j)  # A cubic beginning at (300, 100) and ending at (200, 300)\n",
    "seg2 = Line(200+300j, 250+350j)  # A line beginning at (200, 300) and ending at (250, 350)\n",
    "path = Path(*[seg1, seg2])  # A path traversing the cubic and then the line\n",
    "\n",
    "path2 = Path(Line(300+300j, 150+350j))"
   ]
  },
  {
   "cell_type": "code",
   "execution_count": 14,
   "metadata": {},
   "outputs": [],
   "source": [
    "from svgpathtools import disvg\n",
    "from time import sleep\n",
    "disvg(path) "
   ]
  },
  {
   "cell_type": "code",
   "execution_count": 16,
   "metadata": {},
   "outputs": [],
   "source": [
    "from svgpathtools import svg2paths, wsvg\n",
    "\n",
    "doc = wsvg([path,path2],paths2Drawing=True,)"
   ]
  },
  {
   "cell_type": "code",
   "execution_count": 29,
   "metadata": {},
   "outputs": [],
   "source": [
    "doc.viewbox(0,0,600,400)"
   ]
  },
  {
   "cell_type": "code",
   "execution_count": 32,
   "metadata": {},
   "outputs": [],
   "source": [
    "doc.attribs['height'] = \"400mm\"\n",
    "doc.attribs['width'] = \"600mm\""
   ]
  },
  {
   "cell_type": "code",
   "execution_count": 38,
   "metadata": {},
   "outputs": [],
   "source": [
    "import re\n",
    "dimensions = (\"500mm\",\"500mm\")\n",
    "dimensions = tuple(map(str, dimensions))\n",
    "def strip_units(s):\n",
    "    return re.search(r'\\d*\\.?\\d*', s.strip()).group()\n",
    "viewbox = '0 0 %s %s' % tuple(map(strip_units, dimensions))"
   ]
  },
  {
   "cell_type": "code",
   "execution_count": 43,
   "metadata": {},
   "outputs": [],
   "source": [
    "doc = svgpathtools.wsvg([path,path2],paths2Drawing=True, dimensions=(\"500mm\",\"500mm\"), stroke_widths=[1,1,1,1])"
   ]
  },
  {
   "cell_type": "code",
   "execution_count": 44,
   "metadata": {},
   "outputs": [
    {
     "data": {
      "text/plain": [
       "'<svg baseProfile=\"full\" height=\"500mm\" version=\"1.1\" viewBox=\"0 0 500 500\" width=\"500mm\" xmlns=\"http://www.w3.org/2000/svg\" xmlns:ev=\"http://www.w3.org/2001/xml-events\" xmlns:xlink=\"http://www.w3.org/1999/xlink\"><defs /><path d=\"M 300.0,100.0 C 100.0,100.0 200.0,200.0 200.0,300.0 L 250.0,350.0\" fill=\"none\" stroke=\"#000000\" stroke-width=\"1\" /><path d=\"M 300.0,300.0 L 150.0,350.0\" fill=\"none\" stroke=\"#000000\" stroke-width=\"1\" /></svg>'"
      ]
     },
     "execution_count": 44,
     "metadata": {},
     "output_type": "execute_result"
    }
   ],
   "source": [
    "doc.tostring()"
   ]
  },
  {
   "cell_type": "code",
   "execution_count": null,
   "metadata": {},
   "outputs": [],
   "source": []
  },
  {
   "cell_type": "code",
   "execution_count": 75,
   "metadata": {},
   "outputs": [
    {
     "name": "stdout",
     "output_type": "stream",
     "text": [
      "(14.805016666666667+2.6339224999999997j)\n",
      "(14.79442995+2.3395665374999997j)\n",
      "(14.748010933333333+2.0380095999999996j)\n",
      "(14.661036316666666+1.7345323624999995j)\n",
      "(14.528782799999998+1.4344154999999998j)\n",
      "(14.34652708333333+1.1429396874999997j)\n",
      "(14.109545866666663+0.8653855999999998j)\n",
      "(13.813115849999994+0.6070339124999999j)\n",
      "(13.452513733333326+0.3731652999999997j)\n",
      "(13.023016216666658+0.16906043749999977j)\n"
     ]
    }
   ],
   "source": [
    "for i in np.arange(0,1,0.1):\n",
    "    print(path_i.point(i))"
   ]
  },
  {
   "cell_type": "code",
   "execution_count": null,
   "metadata": {},
   "outputs": [],
   "source": []
  },
  {
   "cell_type": "code",
   "execution_count": 22,
   "metadata": {},
   "outputs": [],
   "source": [
    "import ezdxf"
   ]
  },
  {
   "cell_type": "code",
   "execution_count": 23,
   "metadata": {},
   "outputs": [],
   "source": [
    "doc = ezdxf.readfile('/home/schalk/Downloads/f.dxf')"
   ]
  },
  {
   "cell_type": "code",
   "execution_count": 28,
   "metadata": {},
   "outputs": [
    {
     "name": "stdout",
     "output_type": "stream",
     "text": [
      "POLYLINE\n"
     ]
    }
   ],
   "source": [
    "msp = doc.modelspace()\n",
    "for e in msp:\n",
    "    print(e.dxftype())\n",
    "    if(e.dxftype() == \"LINE\"):\n",
    "        start = tuple(e.dxf.start)[:2]\n",
    "        end = tuple(e.dxf.end)[:2]\n",
    "        \n",
    "    elif e.dxftype() == \"LWPOLYLINE\":\n",
    "        with e.points('xy') as points:\n",
    "            newpoints = [p for p in points]\n",
    "       \n",
    "    elif e.dxftype == \"POLYLINE\":\n",
    "        print(e)\n",
    "        \n",
    "        \n"
   ]
  },
  {
   "cell_type": "code",
   "execution_count": 31,
   "metadata": {},
   "outputs": [],
   "source": [
    "for p in e.points():\n",
    "    print(p)"
   ]
  },
  {
   "cell_type": "code",
   "execution_count": 80,
   "metadata": {},
   "outputs": [
    {
     "data": {
      "text/plain": [
       "<module 'dxf_parser' from '/home/schalk/src/hotwing_dash/dxf_parser.py'>"
      ]
     },
     "execution_count": 80,
     "metadata": {},
     "output_type": "execute_result"
    }
   ],
   "source": [
    "import dxf_parser\n",
    "reload(dxf_parser)"
   ]
  },
  {
   "cell_type": "code",
   "execution_count": 81,
   "metadata": {},
   "outputs": [],
   "source": [
    "parser = dxf_parser.create_parser(\"/home/schalk/Downloads/f.svg\")"
   ]
  },
  {
   "cell_type": "code",
   "execution_count": 87,
   "metadata": {},
   "outputs": [
    {
     "data": {
      "text/plain": [
       "[(0.0, 0.0),\n",
       " (0.6355974, 0.0),\n",
       " (1.2711948, 0.0),\n",
       " (1.9067922000000002, 0.0),\n",
       " (2.5423896, 0.0),\n",
       " (3.177987, 0.0),\n",
       " (3.8135844000000003, 0.0),\n",
       " (4.4491818, 0.0),\n",
       " (5.0847792, 0.0),\n",
       " (5.7203766, 0.0),\n",
       " (6.355974, 0.0),\n",
       " (6.991571400000001, 0.0),\n",
       " (7.627168800000001, 0.0),\n",
       " (8.2627662, 0.0),\n",
       " (8.8983636, 0.0),\n",
       " (9.533961, 0.0),\n",
       " (10.1695584, 0.0),\n",
       " (10.805155800000001, 0.0),\n",
       " (11.4407532, 0.0),\n",
       " (12.0763506, 0.0)]"
      ]
     },
     "execution_count": 87,
     "metadata": {},
     "output_type": "execute_result"
    }
   ],
   "source": [
    "parser.gco_parsed_list[0].points"
   ]
  },
  {
   "cell_type": "code",
   "execution_count": 88,
   "metadata": {
    "scrolled": false
   },
   "outputs": [
    {
     "data": {
      "text/plain": [
       "[(0.0, 0.24305600000000016),\n",
       " (0.0, 0.5573427000000002),\n",
       " (0.0, 0.8716294000000002),\n",
       " (0.0, 1.1859161000000003),\n",
       " (0.0, 1.5002028000000003),\n",
       " (0.0, 1.8144895),\n",
       " (0.0, 2.1287762000000003),\n",
       " (0.0, 2.4430629),\n",
       " (0.0, 2.7573496000000004),\n",
       " (0.0, 3.0716363),\n",
       " (0.0, 3.385923),\n",
       " (0.0, 3.7002097000000003),\n",
       " (0.0, 4.0144964000000005),\n",
       " (0.0, 4.3287831),\n",
       " (0.0, 4.6430698),\n",
       " (0.0, 4.9573565),\n",
       " (0.0, 5.271643200000001),\n",
       " (0.0, 5.585929900000001),\n",
       " (0.0, 5.9002166),\n",
       " (0.0, 6.2145033000000005),\n",
       " (0.0, 6.52879),\n",
       " (0.5625540323958333, 6.0802174777083335),\n",
       " (1.0987360091666667, 5.6776921216666665),\n",
       " (1.6095372496875002, 5.318871248124999),\n",
       " (2.0959490733333332, 5.001412173333333),\n",
       " (2.5589627994791666, 4.7229722135416665),\n",
       " (2.9995697475, 4.4812086849999995),\n",
       " (3.418761236770833, 4.273778903958332),\n",
       " (3.8175285866666666, 4.098340186666666),\n",
       " (4.196863116562499, 3.9525498493749995),\n",
       " (4.557756145833332, 3.8340652083333326),\n",
       " (4.901198993854166, 3.740543579791666),\n",
       " (5.22818298, 3.669642279999999),\n",
       " (5.539699423645833, 3.619018625208332),\n",
       " (5.8367396441666655, 3.5863299316666657),\n",
       " (6.120294960937499, 3.569233515624999),\n",
       " (6.391356693333332, 3.5653866933333314),\n",
       " (6.6509161607291665, 3.5724467810416654),\n",
       " (6.8999646824999985, 3.5880710949999988),\n",
       " (7.139493578020831, 3.609916951458331),\n",
       " (7.370494166666666, 3.6356416666666664),\n",
       " (7.593850557395832, 3.6632778024999997),\n",
       " (7.810018017499999, 3.692358903333333),\n",
       " (8.019344603854167, 3.7227937591666667),\n",
       " (8.222178373333334, 3.7544911599999997),\n",
       " (8.4188673828125, 3.787359895833333),\n",
       " (8.609759689166667, 3.8213087566666664),\n",
       " (8.795203349270833, 3.8562465324999997),\n",
       " (8.97554642, 3.8920820133333334),\n",
       " (9.151136958229166, 3.9287239891666665),\n",
       " (9.322323020833334, 3.96608125),\n",
       " (9.489452664687501, 4.004062585833333),\n",
       " (9.652873946666666, 4.042576786666666),\n",
       " (9.812934923645834, 4.0815326425),\n",
       " (9.969983652500002, 4.120838943333333),\n",
       " (10.124368190104168, 4.160404479166667),\n",
       " (10.276436593333335, 4.200138040000001),\n",
       " (10.426536919062503, 4.239948415833334),\n",
       " (10.575017224166668, 4.279744396666667),\n",
       " (10.722225565520835, 4.3194347725),\n",
       " (10.86851, 4.358928333333333),\n",
       " (11.014140569583335, 4.398089063541667),\n",
       " (11.159075256666668, 4.436601725),\n",
       " (11.303194028750001, 4.474106273958333),\n",
       " (11.446376853333334, 4.510242666666667),\n",
       " (11.588503697916668, 4.544650859375),\n",
       " (11.729454530000002, 4.576970808333333),\n",
       " (11.869109317083334, 4.606842469791666),\n",
       " (12.007348026666667, 4.6339058),\n",
       " (12.144050626250001, 4.657800755208333),\n",
       " (12.279097083333333, 4.678167291666667),\n",
       " (12.412367365416667, 4.694645365625),\n",
       " (12.543741440000002, 4.706874933333333),\n",
       " (12.673099274583334, 4.714495951041667),\n",
       " (12.800320836666668, 4.717148375),\n",
       " (12.925286093750001, 4.714472161458334),\n",
       " (13.047875013333336, 4.706107266666667),\n",
       " (13.167967562916669, 4.691693646875001),\n",
       " (13.285443710000003, 4.670871258333333),\n",
       " (13.400183422083336, 4.643280057291667),\n",
       " (13.512066666666666, 4.608560000000001),\n",
       " (13.620953410416666, 4.566447454062501),\n",
       " (13.726623616666666, 4.517064432500001),\n",
       " (13.828837247916665, 4.4606293596875),\n",
       " (13.927354266666665, 4.39736066),\n",
       " (14.021934635416665, 4.327476757812501),\n",
       " (14.112338316666666, 4.2511960775),\n",
       " (14.198325272916666, 4.168737043437501),\n",
       " (14.279655466666664, 4.0803180800000005),\n",
       " (14.356088860416666, 3.9861576115625),\n",
       " (14.427385416666665, 3.8864740625),\n",
       " (14.493305097916664, 3.7814858571875),\n",
       " (14.553607866666663, 3.6714114199999996),\n",
       " (14.608053685416664, 3.5564691753124995),\n",
       " (14.656402516666663, 3.4368775474999995),\n",
       " (14.698414322916662, 3.3128549609374995),\n",
       " (14.733849066666663, 3.184619839999999),\n",
       " (14.762466710416662, 3.052390609062499),\n",
       " (14.784027216666662, 2.916385692499999),\n",
       " (14.798290547916661, 2.776823514687499),\n",
       " (14.805016666666667, 2.6339224999999997),\n",
       " (14.803907139583334, 2.4879746828125),\n",
       " (14.79442995, 2.3395665374999997),\n",
       " (14.775994685416666, 2.1893581484374995),\n",
       " (14.748010933333333, 2.0380095999999996),\n",
       " (14.709888281249999, 1.8861809765624997),\n",
       " (14.661036316666666, 1.7345323624999995),\n",
       " (14.600864627083332, 1.5837238421874997),\n",
       " (14.528782799999998, 1.4344154999999998),\n",
       " (14.444200422916664, 1.2872674203124999),\n",
       " (14.34652708333333, 1.1429396874999997),\n",
       " (14.235172368749996, 1.0020923859374997),\n",
       " (14.109545866666663, 0.8653855999999998),\n",
       " (13.969057164583328, 0.7334794140624998),\n",
       " (13.813115849999994, 0.6070339124999999),\n",
       " (13.64113151041666, 0.4867091796874998),\n",
       " (13.452513733333326, 0.3731652999999997),\n",
       " (13.246672106249992, 0.26706235781249976),\n",
       " (13.023016216666658, 0.16906043749999977),\n",
       " (12.780955652083323, 0.07981962343749993)]"
      ]
     },
     "execution_count": 88,
     "metadata": {},
     "output_type": "execute_result"
    }
   ],
   "source": [
    "parser.gco_parsed_list[1].points"
   ]
  },
  {
   "cell_type": "code",
   "execution_count": 45,
   "metadata": {},
   "outputs": [],
   "source": [
    "import simplification"
   ]
  },
  {
   "cell_type": "code",
   "execution_count": 46,
   "metadata": {},
   "outputs": [
    {
     "ename": "AttributeError",
     "evalue": "module 'simplification' has no attribute 'cutil'",
     "output_type": "error",
     "traceback": [
      "\u001b[0;31m---------------------------------------------------------------------------\u001b[0m",
      "\u001b[0;31mAttributeError\u001b[0m                            Traceback (most recent call last)",
      "\u001b[0;32m<ipython-input-46-d03d69497a31>\u001b[0m in \u001b[0;36m<module>\u001b[0;34m\u001b[0m\n\u001b[0;32m----> 1\u001b[0;31m \u001b[0msimplification\u001b[0m\u001b[0;34m.\u001b[0m\u001b[0mcutil\u001b[0m\u001b[0;34m.\u001b[0m\u001b[0msimplify_coords_vw_idx\u001b[0m\u001b[0;34m(\u001b[0m\u001b[0;34m)\u001b[0m\u001b[0;34m\u001b[0m\u001b[0;34m\u001b[0m\u001b[0m\n\u001b[0m",
      "\u001b[0;31mAttributeError\u001b[0m: module 'simplification' has no attribute 'cutil'"
     ]
    }
   ],
   "source": [
    "simplification.cutil.simplify_coords_vw_idx()"
   ]
  },
  {
   "cell_type": "code",
   "execution_count": 47,
   "metadata": {},
   "outputs": [],
   "source": [
    "from simplification.cutil import (\n",
    "    simplify_coords,\n",
    "    simplify_coords_idx,\n",
    "    simplify_coords_vw,\n",
    "    simplify_coords_vw_idx,\n",
    "    simplify_coords_vwp,\n",
    ")"
   ]
  },
  {
   "cell_type": "code",
   "execution_count": null,
   "metadata": {},
   "outputs": [],
   "source": [
    "simplify_coords()"
   ]
  }
 ],
 "metadata": {
  "kernelspec": {
   "display_name": "Python [conda env:hotwing]",
   "language": "python",
   "name": "conda-env-hotwing-py"
  },
  "language_info": {
   "codemirror_mode": {
    "name": "ipython",
    "version": 3
   },
   "file_extension": ".py",
   "mimetype": "text/x-python",
   "name": "python",
   "nbconvert_exporter": "python",
   "pygments_lexer": "ipython3",
   "version": "3.9.5"
  }
 },
 "nbformat": 4,
 "nbformat_minor": 2
}
